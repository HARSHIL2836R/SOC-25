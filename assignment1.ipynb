{
 "cells": [
  {
   "cell_type": "code",
   "execution_count": 89,
   "id": "6c387a9d",
   "metadata": {},
   "outputs": [
    {
     "data": {
      "text/plain": [
       "True"
      ]
     },
     "execution_count": 89,
     "metadata": {},
     "output_type": "execute_result"
    }
   ],
   "source": [
    "import pymupdf\n",
    "from langchain.text_splitter import RecursiveCharacterTextSplitter\n",
    "from langchain_community.vectorstores import FAISS\n",
    "from langchain_huggingface import HuggingFaceEmbeddings\n",
    "from langchain_core.prompts import PromptTemplate\n",
    "from langchain_groq import ChatGroq\n",
    "from langchain.schema import Document\n",
    "from langchain_core.runnables import RunnableParallel, RunnablePassthrough, RunnableLambda\n",
    "from langchain_core.output_parsers import StrOutputParser\n",
    "from langchain.memory import ConversationBufferMemory\n",
    "\n",
    "from dotenv import load_dotenv\n",
    "\n",
    "load_dotenv()"
   ]
  },
  {
   "cell_type": "markdown",
   "id": "96d0a9e5",
   "metadata": {},
   "source": [
    "# Extract text from book"
   ]
  },
  {
   "cell_type": "code",
   "execution_count": 90,
   "id": "4142c99b",
   "metadata": {},
   "outputs": [
    {
     "name": "stdout",
     "output_type": "stream",
     "text": [
      "PDF Table of Contents:\n",
      "Level 1: 'Preface: Zero to One' - Page 5\n",
      "Level 2: '1€€€The Challenge of the Future' - Page 7\n",
      "Level 2: '2   Party Like It’s 1999' - Page 13\n",
      "Level 2: '3€€€All Happy Companies Are Different' - Page 21\n",
      "Level 2: '4€€€The Ideology of Competition' - Page 30\n",
      "Level 2: '5€€€Last Mover Advantage' - Page 36\n",
      "Level 2: '6€€€You Are Not a Lottery Ticket' - Page 46\n",
      "Level 2: '7€€€Follow the Money' - Page 61\n",
      "Level 2: '8€€€Secrets' - Page 69\n",
      "Level 2: '9€€€Foundations' - Page 78\n",
      "Level 2: '10€€€The Mechanics of Mafia' - Page 87\n",
      "Level 2: '11€€€If You Build It, Will They Come?' - Page 94\n",
      "Level 2: '12€€€Man and Machine' - Page 104\n",
      "Level 2: '13€€€Seeing Green' - Page 112\n",
      "Level 2: '14   The Founder’s Paradox' - Page 127\n",
      "Level 1: 'Conclusion: Stagnation or Singularity?' - Page 142\n",
      "Level 1: 'Acknowledgments' - Page 146\n",
      "Level 1: 'Illustration Credits' - Page 147\n",
      "Level 1: 'Index' - Page 148\n",
      "Level 1: 'About the Authors' - Page 160\n"
     ]
    }
   ],
   "source": [
    "doc = pymupdf.open(\"zero.pdf\")\n",
    "toc = doc.get_toc()\n",
    "\n",
    "chapters_info = {}\n",
    "chapter_pages = []\n",
    "\n",
    "print(\"PDF Table of Contents:\")\n",
    "for item in toc:\n",
    "    level, title, page_num = item\n",
    "    print(f\"Level {level}: '{title}' - Page {page_num}\")\n",
    "\n",
    "    if level <= 2:\n",
    "        chapters_info[len(chapter_pages)] = {\n",
    "            'title': title,\n",
    "            'page': page_num - 1,\n",
    "            'level': level\n",
    "        }\n",
    "        chapter_pages.append(page_num-1)"
   ]
  },
  {
   "cell_type": "markdown",
   "id": "f39de64f",
   "metadata": {},
   "source": [
    "### First three chapters of the book"
   ]
  },
  {
   "cell_type": "code",
   "execution_count": 91,
   "id": "988ed94e",
   "metadata": {},
   "outputs": [],
   "source": [
    "# start_page = chapter_pages[0]\n",
    "# end_page = chapter_pages[4]\n",
    "\n",
    "first_three_chapters = []\n",
    "\n",
    "for start_page, end_page in ((chapter_pages[1],chapter_pages[2]),(chapter_pages[2],chapter_pages[3]),(chapter_pages[3],chapter_pages[4])):\n",
    "\n",
    "    txt = \"\"\n",
    "    for page_num in range(start_page,min(end_page,doc.page_count)):\n",
    "        page = doc[page_num]\n",
    "        txt+=page.get_text()\n",
    "    \n",
    "    first_three_chapters.append(txt)\n",
    "\n",
    "doc.close()"
   ]
  },
  {
   "cell_type": "markdown",
   "id": "0488eb3f",
   "metadata": {},
   "source": [
    "# Initialize LLM and Embeddings"
   ]
  },
  {
   "cell_type": "code",
   "execution_count": 92,
   "id": "9fdb08e9",
   "metadata": {},
   "outputs": [],
   "source": [
    "llm = ChatGroq(\n",
    "    model=\"llama-3.1-8b-instant\",\n",
    "    temperature=0.1,\n",
    "    max_tokens=1000\n",
    ")\n",
    "\n",
    "embeddings = HuggingFaceEmbeddings(\n",
    "    model_name=\"sentence-transformers/all-MiniLM-L6-v2\",\n",
    "    encode_kwargs={\"normalize_embeddings\":True}\n",
    ")"
   ]
  },
  {
   "cell_type": "markdown",
   "id": "5e9a1920",
   "metadata": {},
   "source": [
    "# Create Document Chunks and Vector Store"
   ]
  },
  {
   "cell_type": "code",
   "execution_count": 93,
   "id": "86f361a1",
   "metadata": {},
   "outputs": [
    {
     "name": "stdout",
     "output_type": "stream",
     "text": [
      "The Challenge of the Future\n"
     ]
    }
   ],
   "source": [
    "print(chapters_info[1]['title'].strip('123€'))"
   ]
  },
  {
   "cell_type": "code",
   "execution_count": 94,
   "id": "edf6cb2e",
   "metadata": {},
   "outputs": [],
   "source": [
    "text_splitter = RecursiveCharacterTextSplitter(\n",
    "    chunk_size=800,\n",
    "    chunk_overlap=100,\n",
    "    length_function=len,\n",
    "    separators=[\"\\n\\n\",\"\\n\",\".\",\"!\",\"?\",\",\",\" \",\"\"]\n",
    ")\n",
    "\n",
    "chapters = [text_splitter.split_text(text) for text in first_three_chapters]\n",
    "\n",
    "documents = []\n",
    "\n",
    "for i,chunks in enumerate(chapters):\n",
    "    for txt in chunks:\n",
    "        # print(chapters_info[i+1]['title'].strip('123€'))\n",
    "        doc = Document(\n",
    "            page_content=txt,\n",
    "            metadata={\n",
    "                \"chunk id\": i,\n",
    "                \"source\": \"Zero to One - Chapters 1-3\",\n",
    "                \"chunk_size\": len(txt),\n",
    "                \"chapter\": i+1,\n",
    "                \"chapter_title\": chapters_info[i+1]['title'].strip('123€')\n",
    "            }\n",
    "        )\n",
    "        documents.append(doc)"
   ]
  },
  {
   "cell_type": "markdown",
   "id": "fefc3b64",
   "metadata": {},
   "source": [
    "### Vector Store"
   ]
  },
  {
   "cell_type": "code",
   "execution_count": 95,
   "id": "837ced35",
   "metadata": {},
   "outputs": [],
   "source": [
    "vector_store = FAISS.from_documents(\n",
    "    documents=documents,\n",
    "    embedding=embeddings\n",
    ")"
   ]
  },
  {
   "cell_type": "markdown",
   "id": "cc169195",
   "metadata": {},
   "source": [
    "# RAG Pipeline"
   ]
  },
  {
   "cell_type": "code",
   "execution_count": 96,
   "id": "86021d1e",
   "metadata": {},
   "outputs": [],
   "source": [
    "# Create retriever with improved search\n",
    "retriever = vector_store.as_retriever(\n",
    "    search_type=\"similarity\",\n",
    "    search_kwargs={\"k\": 5}  # Retrieve top 5 most relevant chunks\n",
    ")\n",
    "\n",
    "# Create enhanced prompt template that uses chapter metadata\n",
    "prompt = PromptTemplate(\n",
    "    template=\"\"\"\n",
    "        You are a helpful assistant.\n",
    "        Answer ONLY from the provided context or memory.\n",
    "        If the context is insufficient, just say you don't know.\n",
    "\n",
    "        {context}\n",
    "        Question: {question}\n",
    "    \"\"\",\n",
    "    input_variables = ['context', 'question']\n",
    ")"
   ]
  },
  {
   "cell_type": "code",
   "execution_count": 97,
   "id": "902d9107",
   "metadata": {},
   "outputs": [
    {
     "name": "stdout",
     "output_type": "stream",
     "text": [
      "I don't know.\n"
     ]
    }
   ],
   "source": [
    "question          = \"what is the capital of india\"\n",
    "retrieved_docs    = retriever.invoke(question)\n",
    "context_text = \"\\n\\n\".join(doc.page_content for doc in retrieved_docs)\n",
    "final_prompt = prompt.invoke({\"context\": context_text, \"question\": question})\n",
    "answer = llm.invoke(final_prompt)\n",
    "print(answer.content)"
   ]
  },
  {
   "cell_type": "code",
   "execution_count": 98,
   "id": "1dcaf620",
   "metadata": {},
   "outputs": [],
   "source": [
    "def format_docs(retrieved_docs):\n",
    "    context_text = \"\\n\\n\".join(doc.page_content for doc in retrieved_docs)\n",
    "    return context_text\n",
    "\n",
    "parallel_chain = RunnableParallel({\n",
    "    'context': retriever | RunnableLambda(format_docs),\n",
    "    'question': RunnablePassthrough()\n",
    "})"
   ]
  },
  {
   "cell_type": "code",
   "execution_count": 99,
   "id": "2502cf86",
   "metadata": {},
   "outputs": [],
   "source": [
    "parser = StrOutputParser()\n",
    "main_chain = parallel_chain | prompt | llm | parser\n"
   ]
  },
  {
   "cell_type": "code",
   "execution_count": 100,
   "id": "e090d3d1",
   "metadata": {},
   "outputs": [
    {
     "data": {
      "text/plain": [
       "'The book discusses the principles of startups and successful businesses. It emphasizes the importance of new thinking, small size, and the ability to create a monopoly by solving a unique problem. The author argues that horizontal progress, or doing something that others have already done, is not enough to achieve success, and that vertical progress, or doing something new and innovative, is necessary for growth and sustainability.\\n\\nThe book also touches on the concept of globalization and the importance of new technology in creating wealth and avoiding devastation. It suggests that simply copying old ways of creating wealth will not lead to riches, but rather to scarcity and devastation.\\n\\nThe author also highlights the difference between happy and unhappy companies, with happy companies being unique and solving a unique problem, and unhappy companies failing to escape competition.\\n\\nOverall, the book is about the questions and answers needed to succeed in the business of doing new things, and how to create a successful startup or business that can achieve a monopoly in its field.'"
      ]
     },
     "execution_count": 100,
     "metadata": {},
     "output_type": "execute_result"
    }
   ],
   "source": [
    "# Initialize memory\n",
    "memory = ConversationBufferMemory(return_messages=True)\n",
    "\n",
    "# Modify main_chain to include memory\n",
    "main_chain_with_memory = main_chain.with_config({\"memory\": memory})\n",
    "\n",
    "# Example usage\n",
    "main_chain_with_memory.invoke('Can you summarize the book')"
   ]
  },
  {
   "cell_type": "code",
   "execution_count": 101,
   "id": "81f35c89",
   "metadata": {},
   "outputs": [
    {
     "data": {
      "text/plain": [
       "\"Hello Harshil. It seems like we're in the middle of a conversation about business and economics, with references to a book or article about the challenges of the future and the nature of competition.\""
      ]
     },
     "execution_count": 101,
     "metadata": {},
     "output_type": "execute_result"
    }
   ],
   "source": [
    "main_chain_with_memory.invoke('Hi my name is Harshil')"
   ]
  },
  {
   "cell_type": "code",
   "execution_count": 102,
   "id": "96aab639",
   "metadata": {},
   "outputs": [
    {
     "data": {
      "text/plain": [
       "\"I don't know.\""
      ]
     },
     "execution_count": 102,
     "metadata": {},
     "output_type": "execute_result"
    }
   ],
   "source": [
    "main_chain_with_memory.invoke('What is my name?')"
   ]
  }
 ],
 "metadata": {
  "kernelspec": {
   "display_name": ".venv.bak",
   "language": "python",
   "name": "python3"
  },
  "language_info": {
   "codemirror_mode": {
    "name": "ipython",
    "version": 3
   },
   "file_extension": ".py",
   "mimetype": "text/x-python",
   "name": "python",
   "nbconvert_exporter": "python",
   "pygments_lexer": "ipython3",
   "version": "3.13.2"
  }
 },
 "nbformat": 4,
 "nbformat_minor": 5
}
