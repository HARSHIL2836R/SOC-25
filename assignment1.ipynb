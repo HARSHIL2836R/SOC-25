{
 "cells": [
  {
   "cell_type": "code",
   "execution_count": 38,
   "id": "6c387a9d",
   "metadata": {},
   "outputs": [
    {
     "data": {
      "text/plain": [
       "True"
      ]
     },
     "execution_count": 38,
     "metadata": {},
     "output_type": "execute_result"
    }
   ],
   "source": [
    "import pymupdf\n",
    "from langchain.text_splitter import RecursiveCharacterTextSplitter\n",
    "from langchain_community.vectorstores import FAISS\n",
    "from langchain_huggingface import HuggingFaceEmbeddings\n",
    "from langchain_core.prompts import PromptTemplate\n",
    "from langchain_groq import ChatGroq\n",
    "from langchain.schema import Document\n",
    "from langchain_core.runnables import RunnableParallel, RunnablePassthrough, RunnableLambda\n",
    "from langchain_core.output_parsers import StrOutputParser\n",
    "from langchain.memory import ConversationBufferMemory\n",
    "\n",
    "from dotenv import load_dotenv\n",
    "\n",
    "load_dotenv()"
   ]
  },
  {
   "cell_type": "markdown",
   "id": "96d0a9e5",
   "metadata": {},
   "source": [
    "# Extract text from book"
   ]
  },
  {
   "cell_type": "code",
   "execution_count": 39,
   "id": "4142c99b",
   "metadata": {},
   "outputs": [
    {
     "name": "stdout",
     "output_type": "stream",
     "text": [
      "PDF Table of Contents:\n",
      "Level 1: 'Preface: Zero to One' - Page 5\n",
      "Level 2: '1€€€The Challenge of the Future' - Page 7\n",
      "Level 2: '2   Party Like It’s 1999' - Page 13\n",
      "Level 2: '3€€€All Happy Companies Are Different' - Page 21\n",
      "Level 2: '4€€€The Ideology of Competition' - Page 30\n",
      "Level 2: '5€€€Last Mover Advantage' - Page 36\n",
      "Level 2: '6€€€You Are Not a Lottery Ticket' - Page 46\n",
      "Level 2: '7€€€Follow the Money' - Page 61\n",
      "Level 2: '8€€€Secrets' - Page 69\n",
      "Level 2: '9€€€Foundations' - Page 78\n",
      "Level 2: '10€€€The Mechanics of Mafia' - Page 87\n",
      "Level 2: '11€€€If You Build It, Will They Come?' - Page 94\n",
      "Level 2: '12€€€Man and Machine' - Page 104\n",
      "Level 2: '13€€€Seeing Green' - Page 112\n",
      "Level 2: '14   The Founder’s Paradox' - Page 127\n",
      "Level 1: 'Conclusion: Stagnation or Singularity?' - Page 142\n",
      "Level 1: 'Acknowledgments' - Page 146\n",
      "Level 1: 'Illustration Credits' - Page 147\n",
      "Level 1: 'Index' - Page 148\n",
      "Level 1: 'About the Authors' - Page 160\n"
     ]
    }
   ],
   "source": [
    "doc = pymupdf.open(\"zero.pdf\")\n",
    "toc = doc.get_toc()\n",
    "\n",
    "chapters_info = {}\n",
    "chapter_pages = []\n",
    "\n",
    "print(\"PDF Table of Contents:\")\n",
    "for item in toc:\n",
    "    level, title, page_num = item\n",
    "    print(f\"Level {level}: '{title}' - Page {page_num}\")\n",
    "\n",
    "    if level <= 2:\n",
    "        chapters_info[len(chapter_pages)] = {\n",
    "            'title': title,\n",
    "            'page': page_num - 1,\n",
    "            'level': level\n",
    "        }\n",
    "        chapter_pages.append(page_num-1)"
   ]
  },
  {
   "cell_type": "markdown",
   "id": "f39de64f",
   "metadata": {},
   "source": [
    "### First three chapters of the book"
   ]
  },
  {
   "cell_type": "code",
   "execution_count": 40,
   "id": "988ed94e",
   "metadata": {},
   "outputs": [],
   "source": [
    "# start_page = chapter_pages[0]\n",
    "# end_page = chapter_pages[4]\n",
    "\n",
    "first_three_chapters = []\n",
    "\n",
    "for start_page, end_page in ((chapter_pages[1],chapter_pages[2]),(chapter_pages[2],chapter_pages[3]),(chapter_pages[3],chapter_pages[4])):\n",
    "\n",
    "    txt = \"\"\n",
    "    for page_num in range(start_page,min(end_page,doc.page_count)):\n",
    "        page = doc[page_num]\n",
    "        txt+=page.get_text()\n",
    "    \n",
    "    first_three_chapters.append(txt)\n",
    "\n",
    "doc.close()"
   ]
  },
  {
   "cell_type": "markdown",
   "id": "0488eb3f",
   "metadata": {},
   "source": [
    "# Initialize LLM and Embeddings"
   ]
  },
  {
   "cell_type": "code",
   "execution_count": 41,
   "id": "9fdb08e9",
   "metadata": {},
   "outputs": [],
   "source": [
    "llm = ChatGroq(\n",
    "    model=\"llama-3.1-8b-instant\",\n",
    "    temperature=0.1,\n",
    "    max_tokens=1000\n",
    ")\n",
    "\n",
    "embeddings = HuggingFaceEmbeddings(\n",
    "    model_name=\"sentence-transformers/all-MiniLM-L6-v2\",\n",
    "    encode_kwargs={\"normalize_embeddings\":True}\n",
    ")"
   ]
  },
  {
   "cell_type": "markdown",
   "id": "5e9a1920",
   "metadata": {},
   "source": [
    "# Create Document Chunks and Vector Store"
   ]
  },
  {
   "cell_type": "code",
   "execution_count": 42,
   "id": "86f361a1",
   "metadata": {},
   "outputs": [
    {
     "name": "stdout",
     "output_type": "stream",
     "text": [
      "The Challenge of the Future\n"
     ]
    }
   ],
   "source": [
    "print(chapters_info[1]['title'].strip('123€'))"
   ]
  },
  {
   "cell_type": "code",
   "execution_count": 43,
   "id": "edf6cb2e",
   "metadata": {},
   "outputs": [],
   "source": [
    "text_splitter = RecursiveCharacterTextSplitter(\n",
    "    chunk_size=800,\n",
    "    chunk_overlap=100,\n",
    "    length_function=len,\n",
    "    separators=[\"\\n\\n\",\"\\n\",\".\",\"!\",\"?\",\",\",\" \",\"\"]\n",
    ")\n",
    "\n",
    "chapters = [text_splitter.split_text(text) for text in first_three_chapters]\n",
    "\n",
    "documents = []\n",
    "\n",
    "for i,chunks in enumerate(chapters):\n",
    "    for txt in chunks:\n",
    "        # print(chapters_info[i+1]['title'].strip('123€'))\n",
    "        doc = Document(\n",
    "            page_content=txt,\n",
    "            metadata={\n",
    "                \"chunk id\": i,\n",
    "                \"source\": \"Zero to One - Chapters 1-3\",\n",
    "                \"chunk_size\": len(txt),\n",
    "                \"chapter\": i+1,\n",
    "                \"chapter_title\": chapters_info[i+1]['title'].strip('123€')\n",
    "            }\n",
    "        )\n",
    "        documents.append(doc)"
   ]
  },
  {
   "cell_type": "markdown",
   "id": "fefc3b64",
   "metadata": {},
   "source": [
    "### Vector Store"
   ]
  },
  {
   "cell_type": "code",
   "execution_count": 44,
   "id": "837ced35",
   "metadata": {},
   "outputs": [],
   "source": [
    "vector_store = FAISS.from_documents(\n",
    "    documents=documents,\n",
    "    embedding=embeddings\n",
    ")"
   ]
  },
  {
   "cell_type": "markdown",
   "id": "cc169195",
   "metadata": {},
   "source": [
    "# RAG Pipeline"
   ]
  },
  {
   "cell_type": "code",
   "execution_count": 45,
   "id": "86021d1e",
   "metadata": {},
   "outputs": [],
   "source": [
    "# Create retriever with improved search\n",
    "retriever = vector_store.as_retriever(\n",
    "    search_type=\"similarity\",\n",
    "    search_kwargs={\"k\": 5}  # Retrieve top 5 most relevant chunks\n",
    ")\n",
    "\n",
    "# Create enhanced prompt template that uses chapter metadata and conversation history\n",
    "prompt = PromptTemplate(\n",
    "    template=\"\"\"You are a helpful assistant for questions about 'Zero to One' by Peter Thiel (Chapters 1-3).\n",
    "\n",
    "INSTRUCTIONS:\n",
    "- Use the provided context from the book to answer questions\n",
    "- Reference the conversation history to maintain context and provide coherent responses\n",
    "- If referring to previous answers, make connections clear\n",
    "- If the context is insufficient, say you don't know\n",
    "\n",
    "CONVERSATION HISTORY:\n",
    "{chat_history}\n",
    "\n",
    "RELEVANT CONTEXT FROM BOOK:\n",
    "{context}\n",
    "\n",
    "CURRENT QUESTION: {question}\n",
    "\n",
    "ANSWER:\"\"\",\n",
    "    input_variables = ['context', 'question', 'chat_history']\n",
    ")"
   ]
  },
  {
   "cell_type": "code",
   "execution_count": 46,
   "id": "902d9107",
   "metadata": {},
   "outputs": [
    {
     "name": "stdout",
     "output_type": "stream",
     "text": [
      "I don't know. The conversation history doesn't mention the capital of India, and it seems unrelated to the context of the book \"Zero to One\" by Peter Thiel. If you'd like to discuss something related to the book, I'd be happy to help.\n"
     ]
    }
   ],
   "source": [
    "question          = \"what is the capital of india\"\n",
    "retrieved_docs    = retriever.invoke(question)\n",
    "context_text = \"\\n\\n\".join(doc.page_content for doc in retrieved_docs)\n",
    "final_prompt = prompt.invoke({\"context\": context_text, \"question\": question,\"chat_history\":\"\"})\n",
    "answer = llm.invoke(final_prompt)\n",
    "print(answer.content)"
   ]
  },
  {
   "cell_type": "code",
   "execution_count": 47,
   "id": "1dcaf620",
   "metadata": {},
   "outputs": [],
   "source": [
    "def format_docs(retrieved_docs):\n",
    "    context_text = \"\\n\\n\".join(doc.page_content for doc in retrieved_docs)\n",
    "    return context_text\n",
    "\n",
    "def extract_question(inputs):\n",
    "    return inputs.get('question', '')\n",
    "\n",
    "def extract_chat_history(inputs):\n",
    "    return inputs.get('chat_history', '')\n",
    "\n",
    "parallel_chain = RunnableParallel({\n",
    "    'context': RunnableLambda(extract_question) | retriever | RunnableLambda(format_docs),\n",
    "    'question': RunnableLambda(extract_question),\n",
    "    'chat_history': RunnableLambda(extract_chat_history)\n",
    "})"
   ]
  },
  {
   "cell_type": "code",
   "execution_count": 48,
   "id": "2502cf86",
   "metadata": {},
   "outputs": [],
   "source": [
    "parser = StrOutputParser()\n",
    "main_chain = parallel_chain | prompt | llm | parser"
   ]
  },
  {
   "cell_type": "code",
   "execution_count": 57,
   "id": "ec18b4e5",
   "metadata": {},
   "outputs": [],
   "source": [
    "# Set up conversational memory with persistent storage\n",
    "memory = ConversationBufferMemory(\n",
    "    memory_key=\"chat_history\",\n",
    "    input_key=\"question\",\n",
    "    output_key=\"answer\",\n",
    "    return_messages=False  # Store as strings for better persistence\n",
    ")\n",
    "\n",
    "def display_conversation_history():\n",
    "    \"\"\"Display the full conversation history\"\"\"\n",
    "    chat_history = memory.load_memory_variables({})[\"chat_history\"]\n",
    "    if chat_history and chat_history.strip():\n",
    "        print(\"=== CONVERSATION HISTORY ===\")\n",
    "        print(chat_history)\n",
    "        print(\"=== END HISTORY ===\")\n",
    "    else:\n",
    "        print(\"No conversation history yet.\")\n",
    "\n",
    "def clear_conversation_history():\n",
    "    \"\"\"Clear all conversation history\"\"\"\n",
    "    memory.clear()\n",
    "    print(\"Conversation history cleared.\")\n",
    "\n",
    "def chat_qa_with_memory(question):\n",
    "    # Get chat history from memory\n",
    "    chat_history = memory.load_memory_variables({})[\"chat_history\"]\n",
    "    # Ensure chat_history is a string\n",
    "    if isinstance(chat_history, list):\n",
    "        chat_history = \"\\n\".join(str(x) for x in chat_history)\n",
    "    elif chat_history is None:\n",
    "        chat_history = \"\"\n",
    "    \n",
    "    # print(f\"DEBUG - Current chat history: '{chat_history}'\")  # Debug line\n",
    "    \n",
    "    # Run the main_chain with chat history as additional context\n",
    "    result = main_chain.invoke({\n",
    "        \"question\": question,\n",
    "        \"chat_history\": chat_history\n",
    "    })\n",
    "    \n",
    "    # Extract answer if it's a dict\n",
    "    if isinstance(result, dict) and \"answer\" in result:\n",
    "        answer = result[\"answer\"]\n",
    "    else:\n",
    "        answer = result\n",
    "    \n",
    "    # print(f\"DEBUG - Saving to memory: Q='{question}', A='{answer[:100]}...'\")  # Debug line\n",
    "    \n",
    "    # Save to memory - this preserves all previous conversations\n",
    "    memory.save_context({\"question\": question}, {\"answer\": answer})\n",
    "    \n",
    "    # Verify memory was saved\n",
    "    updated_history = memory.load_memory_variables({})[\"chat_history\"]\n",
    "    # print(f\"DEBUG - Updated history: '{updated_history[:200]}...'\")  # Debug line\n",
    "    \n",
    "    return answer\n",
    "\n",
    "def interactive_chat():\n",
    "    \"\"\"Interactive chat session\"\"\"\n",
    "    print(\"=== Zero to One QA Chatbot ===\")\n",
    "    print(\"Type 'quit' to exit, 'history' to see conversation history, 'clear' to clear history\")\n",
    "    \n",
    "    while True:\n",
    "        user_question = input(\"\\nYou: \")\n",
    "        print(f\"Human: {user_question}\")\n",
    "        if user_question.lower() == 'quit':\n",
    "            break\n",
    "        elif user_question.lower() == 'history':\n",
    "            display_conversation_history()\n",
    "            continue\n",
    "        elif user_question.lower() == 'clear':\n",
    "            clear_conversation_history()\n",
    "            continue\n",
    "        \n",
    "        try:\n",
    "            response = chat_qa_with_memory(user_question)\n",
    "            print(f\"Bot: {response}\\n\")\n",
    "        except Exception as e:\n",
    "            print(f\"Error: {e}\")\n",
    "\n",
    "# Single question mode\n",
    "# user_question = input(\"Ask a question about Zero to One: \")\n",
    "# response = chat_qa_with_memory(user_question)\n",
    "# print(\"Bot:\", response)\n",
    "\n",
    "# print(\"\\n--- Conversation History ---\")\n",
    "# display_conversation_history()\n"
   ]
  },
  {
   "cell_type": "code",
   "execution_count": null,
   "id": "63388a04",
   "metadata": {},
   "outputs": [
    {
     "name": "stdout",
     "output_type": "stream",
     "text": [
      "=== Zero to One QA Chatbot ===\n",
      "Type 'quit' to exit, 'history' to see conversation history, 'clear' to clear history\n",
      "Human: clear\n",
      "Conversation history cleared.\n",
      "Human: clear\n",
      "Conversation history cleared.\n",
      "Human: Hello I am Harshil\n",
      "Human: Hello I am Harshil\n",
      "Bot: Hello Harshil, it's nice to meet you. I'm here to help with your questions about \"Zero to One\" by Peter Thiel. What would you like to discuss?\n",
      "\n",
      "Bot: Hello Harshil, it's nice to meet you. I'm here to help with your questions about \"Zero to One\" by Peter Thiel. What would you like to discuss?\n",
      "\n",
      "Human: What is my  name? \n",
      "Human: What is my  name? \n",
      "Bot: Your name is Harshil.\n",
      "\n",
      "Bot: Your name is Harshil.\n",
      "\n",
      "Human: Summarise the book\n",
      "Human: Summarise the book\n",
      "Bot: Based on the provided context from the book, \"Zero to One\" by Peter Thiel, the book is about the principles and strategies required to succeed in the business of creating new things. It emphasizes the importance of thinking differently, questioning received ideas, and rethinking business from scratch.\n",
      "\n",
      "The book highlights that a startup's most important strength is new thinking, and that a new company's value lies in its ability to create a monopoly by solving a unique problem. It also distinguishes between horizontal progress (doing the same thing better) and vertical progress (doing something new and different).\n",
      "\n",
      "The book is not a manual or a record of knowledge, but rather an exercise in thinking that aims to help entrepreneurs and business leaders ask and answer the right questions to succeed in creating new and innovative businesses.\n",
      "\n",
      "In essence, the book is about how to create something new and valuable, rather than just copying or improving existing ideas. It encourages readers to think creatively and focus on solving unique problems to achieve monopoly status and success in business.\n",
      "\n",
      "Bot: Based on the provided context from the book, \"Zero to One\" by Peter Thiel, the book is about the principles and strategies required to succeed in the business of creating new things. It emphasizes the importance of thinking differently, questioning received ideas, and rethinking business from scratch.\n",
      "\n",
      "The book highlights that a startup's most important strength is new thinking, and that a new company's value lies in its ability to create a monopoly by solving a unique problem. It also distinguishes between horizontal progress (doing the same thing better) and vertical progress (doing something new and different).\n",
      "\n",
      "The book is not a manual or a record of knowledge, but rather an exercise in thinking that aims to help entrepreneurs and business leaders ask and answer the right questions to succeed in creating new and innovative businesses.\n",
      "\n",
      "In essence, the book is about how to create something new and valuable, rather than just copying or improving existing ideas. It encourages readers to think creatively and focus on solving unique problems to achieve monopoly status and success in business.\n",
      "\n",
      "Human: quit\n",
      "Human: quit\n"
     ]
    }
   ],
   "source": [
    "# Run this cell for testing memory persistence\n",
    "interactive_chat()\n"
   ]
  },
  {
   "cell_type": "code",
   "execution_count": null,
   "id": "108d8a66",
   "metadata": {},
   "outputs": [],
   "source": []
  }
 ],
 "metadata": {
  "kernelspec": {
   "display_name": ".venv.bak",
   "language": "python",
   "name": "python3"
  },
  "language_info": {
   "codemirror_mode": {
    "name": "ipython",
    "version": 3
   },
   "file_extension": ".py",
   "mimetype": "text/x-python",
   "name": "python",
   "nbconvert_exporter": "python",
   "pygments_lexer": "ipython3",
   "version": "3.13.2"
  }
 },
 "nbformat": 4,
 "nbformat_minor": 5
}
